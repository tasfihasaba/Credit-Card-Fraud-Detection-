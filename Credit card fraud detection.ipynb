{
 "cells": [
  {
   "cell_type": "markdown",
   "id": "78e6937a",
   "metadata": {
    "papermill": {
     "duration": 0.007927,
     "end_time": "2022-09-04T20:17:45.886586",
     "exception": false,
     "start_time": "2022-09-04T20:17:45.878659",
     "status": "completed"
    },
    "tags": []
   },
   "source": [
    "# Credit Card Fraud Detection"
   ]
  },
  {
   "cell_type": "markdown",
   "id": "94c31b35",
   "metadata": {},
   "source": [
    "## Import all required libraries"
   ]
  },
  {
   "cell_type": "code",
   "execution_count": 1,
   "id": "49b5a945",
   "metadata": {
    "_cell_guid": "b1076dfc-b9ad-4769-8c92-a6c4dae69d19",
    "_uuid": "8f2839f25d086af736a60e9eeb907d3b93b6e0e5",
    "execution": {
     "iopub.execute_input": "2022-09-04T20:17:45.902102Z",
     "iopub.status.busy": "2022-09-04T20:17:45.901706Z",
     "iopub.status.idle": "2022-09-04T20:17:46.887234Z",
     "shell.execute_reply": "2022-09-04T20:17:46.886029Z"
    },
    "papermill": {
     "duration": 0.996662,
     "end_time": "2022-09-04T20:17:46.890060",
     "exception": false,
     "start_time": "2022-09-04T20:17:45.893398",
     "status": "completed"
    },
    "tags": []
   },
   "outputs": [],
   "source": [
    "import numpy as np\n",
    "import pandas as pd\n",
    "import matplotlib.pyplot as plt\n",
    "import seaborn as sns\n",
    "try:\n",
    "    from imblearn.under_sampling import NearMiss\n",
    "except:\n",
    "    !pip install imblearn\n",
    "    from imblearn.under_sampling import NearMiss\n",
    "from sklearn.model_selection import train_test_split\n",
    "from sklearn.preprocessing import RobustScaler\n",
    "from sklearn.neural_network import MLPClassifier\n",
    "from sklearn.metrics import classification_report,confusion_matrix,accuracy_score"
   ]
  },
  {
   "cell_type": "markdown",
   "id": "94971f2a",
   "metadata": {
    "papermill": {
     "duration": 0.00857,
     "end_time": "2022-09-04T20:17:46.906493",
     "exception": false,
     "start_time": "2022-09-04T20:17:46.897923",
     "status": "completed"
    },
    "tags": []
   },
   "source": [
    "## Importing Data and Analysing it"
   ]
  },
  {
   "cell_type": "code",
   "execution_count": 2,
   "id": "8002b773",
   "metadata": {
    "execution": {
     "iopub.execute_input": "2022-09-04T20:17:46.930789Z",
     "iopub.status.busy": "2022-09-04T20:17:46.930079Z",
     "iopub.status.idle": "2022-09-04T20:17:50.361342Z",
     "shell.execute_reply": "2022-09-04T20:17:50.360269Z"
    },
    "papermill": {
     "duration": 3.444631,
     "end_time": "2022-09-04T20:17:50.364316",
     "exception": false,
     "start_time": "2022-09-04T20:17:46.919685",
     "status": "completed"
    },
    "tags": []
   },
   "outputs": [],
   "source": [
    "credit_tranasction_data = pd.read_csv('creditcard.csv')"
   ]
  },
  {
   "cell_type": "code",
   "execution_count": 3,
   "id": "cc45e7c8",
   "metadata": {
    "execution": {
     "iopub.execute_input": "2022-09-04T20:17:50.380971Z",
     "iopub.status.busy": "2022-09-04T20:17:50.380518Z",
     "iopub.status.idle": "2022-09-04T20:17:50.413173Z",
     "shell.execute_reply": "2022-09-04T20:17:50.412168Z"
    },
    "papermill": {
     "duration": 0.043653,
     "end_time": "2022-09-04T20:17:50.415474",
     "exception": false,
     "start_time": "2022-09-04T20:17:50.371821",
     "status": "completed"
    },
    "tags": []
   },
   "outputs": [
    {
     "data": {
      "text/html": [
       "<div>\n",
       "<style scoped>\n",
       "    .dataframe tbody tr th:only-of-type {\n",
       "        vertical-align: middle;\n",
       "    }\n",
       "\n",
       "    .dataframe tbody tr th {\n",
       "        vertical-align: top;\n",
       "    }\n",
       "\n",
       "    .dataframe thead th {\n",
       "        text-align: right;\n",
       "    }\n",
       "</style>\n",
       "<table border=\"1\" class=\"dataframe\">\n",
       "  <thead>\n",
       "    <tr style=\"text-align: right;\">\n",
       "      <th></th>\n",
       "      <th>Time</th>\n",
       "      <th>V1</th>\n",
       "      <th>V2</th>\n",
       "      <th>V3</th>\n",
       "      <th>V4</th>\n",
       "      <th>V5</th>\n",
       "      <th>V6</th>\n",
       "      <th>V7</th>\n",
       "      <th>V8</th>\n",
       "      <th>V9</th>\n",
       "      <th>...</th>\n",
       "      <th>V21</th>\n",
       "      <th>V22</th>\n",
       "      <th>V23</th>\n",
       "      <th>V24</th>\n",
       "      <th>V25</th>\n",
       "      <th>V26</th>\n",
       "      <th>V27</th>\n",
       "      <th>V28</th>\n",
       "      <th>Amount</th>\n",
       "      <th>Class</th>\n",
       "    </tr>\n",
       "  </thead>\n",
       "  <tbody>\n",
       "    <tr>\n",
       "      <th>0</th>\n",
       "      <td>0.0</td>\n",
       "      <td>-1.359807</td>\n",
       "      <td>-0.072781</td>\n",
       "      <td>2.536347</td>\n",
       "      <td>1.378155</td>\n",
       "      <td>-0.338321</td>\n",
       "      <td>0.462388</td>\n",
       "      <td>0.239599</td>\n",
       "      <td>0.098698</td>\n",
       "      <td>0.363787</td>\n",
       "      <td>...</td>\n",
       "      <td>-0.018307</td>\n",
       "      <td>0.277838</td>\n",
       "      <td>-0.110474</td>\n",
       "      <td>0.066928</td>\n",
       "      <td>0.128539</td>\n",
       "      <td>-0.189115</td>\n",
       "      <td>0.133558</td>\n",
       "      <td>-0.021053</td>\n",
       "      <td>149.62</td>\n",
       "      <td>0</td>\n",
       "    </tr>\n",
       "    <tr>\n",
       "      <th>1</th>\n",
       "      <td>0.0</td>\n",
       "      <td>1.191857</td>\n",
       "      <td>0.266151</td>\n",
       "      <td>0.166480</td>\n",
       "      <td>0.448154</td>\n",
       "      <td>0.060018</td>\n",
       "      <td>-0.082361</td>\n",
       "      <td>-0.078803</td>\n",
       "      <td>0.085102</td>\n",
       "      <td>-0.255425</td>\n",
       "      <td>...</td>\n",
       "      <td>-0.225775</td>\n",
       "      <td>-0.638672</td>\n",
       "      <td>0.101288</td>\n",
       "      <td>-0.339846</td>\n",
       "      <td>0.167170</td>\n",
       "      <td>0.125895</td>\n",
       "      <td>-0.008983</td>\n",
       "      <td>0.014724</td>\n",
       "      <td>2.69</td>\n",
       "      <td>0</td>\n",
       "    </tr>\n",
       "    <tr>\n",
       "      <th>2</th>\n",
       "      <td>1.0</td>\n",
       "      <td>-1.358354</td>\n",
       "      <td>-1.340163</td>\n",
       "      <td>1.773209</td>\n",
       "      <td>0.379780</td>\n",
       "      <td>-0.503198</td>\n",
       "      <td>1.800499</td>\n",
       "      <td>0.791461</td>\n",
       "      <td>0.247676</td>\n",
       "      <td>-1.514654</td>\n",
       "      <td>...</td>\n",
       "      <td>0.247998</td>\n",
       "      <td>0.771679</td>\n",
       "      <td>0.909412</td>\n",
       "      <td>-0.689281</td>\n",
       "      <td>-0.327642</td>\n",
       "      <td>-0.139097</td>\n",
       "      <td>-0.055353</td>\n",
       "      <td>-0.059752</td>\n",
       "      <td>378.66</td>\n",
       "      <td>0</td>\n",
       "    </tr>\n",
       "    <tr>\n",
       "      <th>3</th>\n",
       "      <td>1.0</td>\n",
       "      <td>-0.966272</td>\n",
       "      <td>-0.185226</td>\n",
       "      <td>1.792993</td>\n",
       "      <td>-0.863291</td>\n",
       "      <td>-0.010309</td>\n",
       "      <td>1.247203</td>\n",
       "      <td>0.237609</td>\n",
       "      <td>0.377436</td>\n",
       "      <td>-1.387024</td>\n",
       "      <td>...</td>\n",
       "      <td>-0.108300</td>\n",
       "      <td>0.005274</td>\n",
       "      <td>-0.190321</td>\n",
       "      <td>-1.175575</td>\n",
       "      <td>0.647376</td>\n",
       "      <td>-0.221929</td>\n",
       "      <td>0.062723</td>\n",
       "      <td>0.061458</td>\n",
       "      <td>123.50</td>\n",
       "      <td>0</td>\n",
       "    </tr>\n",
       "    <tr>\n",
       "      <th>4</th>\n",
       "      <td>2.0</td>\n",
       "      <td>-1.158233</td>\n",
       "      <td>0.877737</td>\n",
       "      <td>1.548718</td>\n",
       "      <td>0.403034</td>\n",
       "      <td>-0.407193</td>\n",
       "      <td>0.095921</td>\n",
       "      <td>0.592941</td>\n",
       "      <td>-0.270533</td>\n",
       "      <td>0.817739</td>\n",
       "      <td>...</td>\n",
       "      <td>-0.009431</td>\n",
       "      <td>0.798278</td>\n",
       "      <td>-0.137458</td>\n",
       "      <td>0.141267</td>\n",
       "      <td>-0.206010</td>\n",
       "      <td>0.502292</td>\n",
       "      <td>0.219422</td>\n",
       "      <td>0.215153</td>\n",
       "      <td>69.99</td>\n",
       "      <td>0</td>\n",
       "    </tr>\n",
       "  </tbody>\n",
       "</table>\n",
       "<p>5 rows × 31 columns</p>\n",
       "</div>"
      ],
      "text/plain": [
       "   Time        V1        V2        V3        V4        V5        V6        V7  \\\n",
       "0   0.0 -1.359807 -0.072781  2.536347  1.378155 -0.338321  0.462388  0.239599   \n",
       "1   0.0  1.191857  0.266151  0.166480  0.448154  0.060018 -0.082361 -0.078803   \n",
       "2   1.0 -1.358354 -1.340163  1.773209  0.379780 -0.503198  1.800499  0.791461   \n",
       "3   1.0 -0.966272 -0.185226  1.792993 -0.863291 -0.010309  1.247203  0.237609   \n",
       "4   2.0 -1.158233  0.877737  1.548718  0.403034 -0.407193  0.095921  0.592941   \n",
       "\n",
       "         V8        V9  ...       V21       V22       V23       V24       V25  \\\n",
       "0  0.098698  0.363787  ... -0.018307  0.277838 -0.110474  0.066928  0.128539   \n",
       "1  0.085102 -0.255425  ... -0.225775 -0.638672  0.101288 -0.339846  0.167170   \n",
       "2  0.247676 -1.514654  ...  0.247998  0.771679  0.909412 -0.689281 -0.327642   \n",
       "3  0.377436 -1.387024  ... -0.108300  0.005274 -0.190321 -1.175575  0.647376   \n",
       "4 -0.270533  0.817739  ... -0.009431  0.798278 -0.137458  0.141267 -0.206010   \n",
       "\n",
       "        V26       V27       V28  Amount  Class  \n",
       "0 -0.189115  0.133558 -0.021053  149.62      0  \n",
       "1  0.125895 -0.008983  0.014724    2.69      0  \n",
       "2 -0.139097 -0.055353 -0.059752  378.66      0  \n",
       "3 -0.221929  0.062723  0.061458  123.50      0  \n",
       "4  0.502292  0.219422  0.215153   69.99      0  \n",
       "\n",
       "[5 rows x 31 columns]"
      ]
     },
     "execution_count": 3,
     "metadata": {},
     "output_type": "execute_result"
    }
   ],
   "source": [
    "credit_tranasction_data.head()"
   ]
  },
  {
   "cell_type": "code",
   "execution_count": 4,
   "id": "4b6a55bb",
   "metadata": {
    "execution": {
     "iopub.execute_input": "2022-09-04T20:17:50.430845Z",
     "iopub.status.busy": "2022-09-04T20:17:50.430040Z",
     "iopub.status.idle": "2022-09-04T20:17:50.470078Z",
     "shell.execute_reply": "2022-09-04T20:17:50.469021Z"
    },
    "papermill": {
     "duration": 0.050266,
     "end_time": "2022-09-04T20:17:50.472451",
     "exception": false,
     "start_time": "2022-09-04T20:17:50.422185",
     "status": "completed"
    },
    "tags": []
   },
   "outputs": [
    {
     "name": "stdout",
     "output_type": "stream",
     "text": [
      "<class 'pandas.core.frame.DataFrame'>\n",
      "RangeIndex: 284807 entries, 0 to 284806\n",
      "Data columns (total 31 columns):\n",
      " #   Column  Non-Null Count   Dtype  \n",
      "---  ------  --------------   -----  \n",
      " 0   Time    284807 non-null  float64\n",
      " 1   V1      284807 non-null  float64\n",
      " 2   V2      284807 non-null  float64\n",
      " 3   V3      284807 non-null  float64\n",
      " 4   V4      284807 non-null  float64\n",
      " 5   V5      284807 non-null  float64\n",
      " 6   V6      284807 non-null  float64\n",
      " 7   V7      284807 non-null  float64\n",
      " 8   V8      284807 non-null  float64\n",
      " 9   V9      284807 non-null  float64\n",
      " 10  V10     284807 non-null  float64\n",
      " 11  V11     284807 non-null  float64\n",
      " 12  V12     284807 non-null  float64\n",
      " 13  V13     284807 non-null  float64\n",
      " 14  V14     284807 non-null  float64\n",
      " 15  V15     284807 non-null  float64\n",
      " 16  V16     284807 non-null  float64\n",
      " 17  V17     284807 non-null  float64\n",
      " 18  V18     284807 non-null  float64\n",
      " 19  V19     284807 non-null  float64\n",
      " 20  V20     284807 non-null  float64\n",
      " 21  V21     284807 non-null  float64\n",
      " 22  V22     284807 non-null  float64\n",
      " 23  V23     284807 non-null  float64\n",
      " 24  V24     284807 non-null  float64\n",
      " 25  V25     284807 non-null  float64\n",
      " 26  V26     284807 non-null  float64\n",
      " 27  V27     284807 non-null  float64\n",
      " 28  V28     284807 non-null  float64\n",
      " 29  Amount  284807 non-null  float64\n",
      " 30  Class   284807 non-null  int64  \n",
      "dtypes: float64(30), int64(1)\n",
      "memory usage: 67.4 MB\n"
     ]
    }
   ],
   "source": [
    "credit_tranasction_data.info()"
   ]
  },
  {
   "cell_type": "code",
   "execution_count": 5,
   "id": "b39dff78",
   "metadata": {
    "execution": {
     "iopub.execute_input": "2022-09-04T20:17:50.488332Z",
     "iopub.status.busy": "2022-09-04T20:17:50.488001Z",
     "iopub.status.idle": "2022-09-04T20:17:50.888974Z",
     "shell.execute_reply": "2022-09-04T20:17:50.887886Z"
    },
    "papermill": {
     "duration": 0.411554,
     "end_time": "2022-09-04T20:17:50.891345",
     "exception": false,
     "start_time": "2022-09-04T20:17:50.479791",
     "status": "completed"
    },
    "tags": []
   },
   "outputs": [
    {
     "data": {
      "text/html": [
       "<div>\n",
       "<style scoped>\n",
       "    .dataframe tbody tr th:only-of-type {\n",
       "        vertical-align: middle;\n",
       "    }\n",
       "\n",
       "    .dataframe tbody tr th {\n",
       "        vertical-align: top;\n",
       "    }\n",
       "\n",
       "    .dataframe thead th {\n",
       "        text-align: right;\n",
       "    }\n",
       "</style>\n",
       "<table border=\"1\" class=\"dataframe\">\n",
       "  <thead>\n",
       "    <tr style=\"text-align: right;\">\n",
       "      <th></th>\n",
       "      <th>Time</th>\n",
       "      <th>V1</th>\n",
       "      <th>V2</th>\n",
       "      <th>V3</th>\n",
       "      <th>V4</th>\n",
       "      <th>V5</th>\n",
       "      <th>V6</th>\n",
       "      <th>V7</th>\n",
       "      <th>V8</th>\n",
       "      <th>V9</th>\n",
       "      <th>...</th>\n",
       "      <th>V21</th>\n",
       "      <th>V22</th>\n",
       "      <th>V23</th>\n",
       "      <th>V24</th>\n",
       "      <th>V25</th>\n",
       "      <th>V26</th>\n",
       "      <th>V27</th>\n",
       "      <th>V28</th>\n",
       "      <th>Amount</th>\n",
       "      <th>Class</th>\n",
       "    </tr>\n",
       "  </thead>\n",
       "  <tbody>\n",
       "    <tr>\n",
       "      <th>count</th>\n",
       "      <td>284807.000000</td>\n",
       "      <td>2.848070e+05</td>\n",
       "      <td>2.848070e+05</td>\n",
       "      <td>2.848070e+05</td>\n",
       "      <td>2.848070e+05</td>\n",
       "      <td>2.848070e+05</td>\n",
       "      <td>2.848070e+05</td>\n",
       "      <td>2.848070e+05</td>\n",
       "      <td>2.848070e+05</td>\n",
       "      <td>2.848070e+05</td>\n",
       "      <td>...</td>\n",
       "      <td>2.848070e+05</td>\n",
       "      <td>2.848070e+05</td>\n",
       "      <td>2.848070e+05</td>\n",
       "      <td>2.848070e+05</td>\n",
       "      <td>2.848070e+05</td>\n",
       "      <td>2.848070e+05</td>\n",
       "      <td>2.848070e+05</td>\n",
       "      <td>2.848070e+05</td>\n",
       "      <td>284807.000000</td>\n",
       "      <td>284807.000000</td>\n",
       "    </tr>\n",
       "    <tr>\n",
       "      <th>mean</th>\n",
       "      <td>94813.859575</td>\n",
       "      <td>3.918649e-15</td>\n",
       "      <td>5.682686e-16</td>\n",
       "      <td>-8.761736e-15</td>\n",
       "      <td>2.811118e-15</td>\n",
       "      <td>-1.552103e-15</td>\n",
       "      <td>2.040130e-15</td>\n",
       "      <td>-1.698953e-15</td>\n",
       "      <td>-1.893285e-16</td>\n",
       "      <td>-3.147640e-15</td>\n",
       "      <td>...</td>\n",
       "      <td>1.473120e-16</td>\n",
       "      <td>8.042109e-16</td>\n",
       "      <td>5.282512e-16</td>\n",
       "      <td>4.456271e-15</td>\n",
       "      <td>1.426896e-15</td>\n",
       "      <td>1.701640e-15</td>\n",
       "      <td>-3.662252e-16</td>\n",
       "      <td>-1.217809e-16</td>\n",
       "      <td>88.349619</td>\n",
       "      <td>0.001727</td>\n",
       "    </tr>\n",
       "    <tr>\n",
       "      <th>std</th>\n",
       "      <td>47488.145955</td>\n",
       "      <td>1.958696e+00</td>\n",
       "      <td>1.651309e+00</td>\n",
       "      <td>1.516255e+00</td>\n",
       "      <td>1.415869e+00</td>\n",
       "      <td>1.380247e+00</td>\n",
       "      <td>1.332271e+00</td>\n",
       "      <td>1.237094e+00</td>\n",
       "      <td>1.194353e+00</td>\n",
       "      <td>1.098632e+00</td>\n",
       "      <td>...</td>\n",
       "      <td>7.345240e-01</td>\n",
       "      <td>7.257016e-01</td>\n",
       "      <td>6.244603e-01</td>\n",
       "      <td>6.056471e-01</td>\n",
       "      <td>5.212781e-01</td>\n",
       "      <td>4.822270e-01</td>\n",
       "      <td>4.036325e-01</td>\n",
       "      <td>3.300833e-01</td>\n",
       "      <td>250.120109</td>\n",
       "      <td>0.041527</td>\n",
       "    </tr>\n",
       "    <tr>\n",
       "      <th>min</th>\n",
       "      <td>0.000000</td>\n",
       "      <td>-5.640751e+01</td>\n",
       "      <td>-7.271573e+01</td>\n",
       "      <td>-4.832559e+01</td>\n",
       "      <td>-5.683171e+00</td>\n",
       "      <td>-1.137433e+02</td>\n",
       "      <td>-2.616051e+01</td>\n",
       "      <td>-4.355724e+01</td>\n",
       "      <td>-7.321672e+01</td>\n",
       "      <td>-1.343407e+01</td>\n",
       "      <td>...</td>\n",
       "      <td>-3.483038e+01</td>\n",
       "      <td>-1.093314e+01</td>\n",
       "      <td>-4.480774e+01</td>\n",
       "      <td>-2.836627e+00</td>\n",
       "      <td>-1.029540e+01</td>\n",
       "      <td>-2.604551e+00</td>\n",
       "      <td>-2.256568e+01</td>\n",
       "      <td>-1.543008e+01</td>\n",
       "      <td>0.000000</td>\n",
       "      <td>0.000000</td>\n",
       "    </tr>\n",
       "    <tr>\n",
       "      <th>25%</th>\n",
       "      <td>54201.500000</td>\n",
       "      <td>-9.203734e-01</td>\n",
       "      <td>-5.985499e-01</td>\n",
       "      <td>-8.903648e-01</td>\n",
       "      <td>-8.486401e-01</td>\n",
       "      <td>-6.915971e-01</td>\n",
       "      <td>-7.682956e-01</td>\n",
       "      <td>-5.540759e-01</td>\n",
       "      <td>-2.086297e-01</td>\n",
       "      <td>-6.430976e-01</td>\n",
       "      <td>...</td>\n",
       "      <td>-2.283949e-01</td>\n",
       "      <td>-5.423504e-01</td>\n",
       "      <td>-1.618463e-01</td>\n",
       "      <td>-3.545861e-01</td>\n",
       "      <td>-3.171451e-01</td>\n",
       "      <td>-3.269839e-01</td>\n",
       "      <td>-7.083953e-02</td>\n",
       "      <td>-5.295979e-02</td>\n",
       "      <td>5.600000</td>\n",
       "      <td>0.000000</td>\n",
       "    </tr>\n",
       "    <tr>\n",
       "      <th>50%</th>\n",
       "      <td>84692.000000</td>\n",
       "      <td>1.810880e-02</td>\n",
       "      <td>6.548556e-02</td>\n",
       "      <td>1.798463e-01</td>\n",
       "      <td>-1.984653e-02</td>\n",
       "      <td>-5.433583e-02</td>\n",
       "      <td>-2.741871e-01</td>\n",
       "      <td>4.010308e-02</td>\n",
       "      <td>2.235804e-02</td>\n",
       "      <td>-5.142873e-02</td>\n",
       "      <td>...</td>\n",
       "      <td>-2.945017e-02</td>\n",
       "      <td>6.781943e-03</td>\n",
       "      <td>-1.119293e-02</td>\n",
       "      <td>4.097606e-02</td>\n",
       "      <td>1.659350e-02</td>\n",
       "      <td>-5.213911e-02</td>\n",
       "      <td>1.342146e-03</td>\n",
       "      <td>1.124383e-02</td>\n",
       "      <td>22.000000</td>\n",
       "      <td>0.000000</td>\n",
       "    </tr>\n",
       "    <tr>\n",
       "      <th>75%</th>\n",
       "      <td>139320.500000</td>\n",
       "      <td>1.315642e+00</td>\n",
       "      <td>8.037239e-01</td>\n",
       "      <td>1.027196e+00</td>\n",
       "      <td>7.433413e-01</td>\n",
       "      <td>6.119264e-01</td>\n",
       "      <td>3.985649e-01</td>\n",
       "      <td>5.704361e-01</td>\n",
       "      <td>3.273459e-01</td>\n",
       "      <td>5.971390e-01</td>\n",
       "      <td>...</td>\n",
       "      <td>1.863772e-01</td>\n",
       "      <td>5.285536e-01</td>\n",
       "      <td>1.476421e-01</td>\n",
       "      <td>4.395266e-01</td>\n",
       "      <td>3.507156e-01</td>\n",
       "      <td>2.409522e-01</td>\n",
       "      <td>9.104512e-02</td>\n",
       "      <td>7.827995e-02</td>\n",
       "      <td>77.165000</td>\n",
       "      <td>0.000000</td>\n",
       "    </tr>\n",
       "    <tr>\n",
       "      <th>max</th>\n",
       "      <td>172792.000000</td>\n",
       "      <td>2.454930e+00</td>\n",
       "      <td>2.205773e+01</td>\n",
       "      <td>9.382558e+00</td>\n",
       "      <td>1.687534e+01</td>\n",
       "      <td>3.480167e+01</td>\n",
       "      <td>7.330163e+01</td>\n",
       "      <td>1.205895e+02</td>\n",
       "      <td>2.000721e+01</td>\n",
       "      <td>1.559499e+01</td>\n",
       "      <td>...</td>\n",
       "      <td>2.720284e+01</td>\n",
       "      <td>1.050309e+01</td>\n",
       "      <td>2.252841e+01</td>\n",
       "      <td>4.584549e+00</td>\n",
       "      <td>7.519589e+00</td>\n",
       "      <td>3.517346e+00</td>\n",
       "      <td>3.161220e+01</td>\n",
       "      <td>3.384781e+01</td>\n",
       "      <td>25691.160000</td>\n",
       "      <td>1.000000</td>\n",
       "    </tr>\n",
       "  </tbody>\n",
       "</table>\n",
       "<p>8 rows × 31 columns</p>\n",
       "</div>"
      ],
      "text/plain": [
       "                Time            V1            V2            V3            V4  \\\n",
       "count  284807.000000  2.848070e+05  2.848070e+05  2.848070e+05  2.848070e+05   \n",
       "mean    94813.859575  3.918649e-15  5.682686e-16 -8.761736e-15  2.811118e-15   \n",
       "std     47488.145955  1.958696e+00  1.651309e+00  1.516255e+00  1.415869e+00   \n",
       "min         0.000000 -5.640751e+01 -7.271573e+01 -4.832559e+01 -5.683171e+00   \n",
       "25%     54201.500000 -9.203734e-01 -5.985499e-01 -8.903648e-01 -8.486401e-01   \n",
       "50%     84692.000000  1.810880e-02  6.548556e-02  1.798463e-01 -1.984653e-02   \n",
       "75%    139320.500000  1.315642e+00  8.037239e-01  1.027196e+00  7.433413e-01   \n",
       "max    172792.000000  2.454930e+00  2.205773e+01  9.382558e+00  1.687534e+01   \n",
       "\n",
       "                 V5            V6            V7            V8            V9  \\\n",
       "count  2.848070e+05  2.848070e+05  2.848070e+05  2.848070e+05  2.848070e+05   \n",
       "mean  -1.552103e-15  2.040130e-15 -1.698953e-15 -1.893285e-16 -3.147640e-15   \n",
       "std    1.380247e+00  1.332271e+00  1.237094e+00  1.194353e+00  1.098632e+00   \n",
       "min   -1.137433e+02 -2.616051e+01 -4.355724e+01 -7.321672e+01 -1.343407e+01   \n",
       "25%   -6.915971e-01 -7.682956e-01 -5.540759e-01 -2.086297e-01 -6.430976e-01   \n",
       "50%   -5.433583e-02 -2.741871e-01  4.010308e-02  2.235804e-02 -5.142873e-02   \n",
       "75%    6.119264e-01  3.985649e-01  5.704361e-01  3.273459e-01  5.971390e-01   \n",
       "max    3.480167e+01  7.330163e+01  1.205895e+02  2.000721e+01  1.559499e+01   \n",
       "\n",
       "       ...           V21           V22           V23           V24  \\\n",
       "count  ...  2.848070e+05  2.848070e+05  2.848070e+05  2.848070e+05   \n",
       "mean   ...  1.473120e-16  8.042109e-16  5.282512e-16  4.456271e-15   \n",
       "std    ...  7.345240e-01  7.257016e-01  6.244603e-01  6.056471e-01   \n",
       "min    ... -3.483038e+01 -1.093314e+01 -4.480774e+01 -2.836627e+00   \n",
       "25%    ... -2.283949e-01 -5.423504e-01 -1.618463e-01 -3.545861e-01   \n",
       "50%    ... -2.945017e-02  6.781943e-03 -1.119293e-02  4.097606e-02   \n",
       "75%    ...  1.863772e-01  5.285536e-01  1.476421e-01  4.395266e-01   \n",
       "max    ...  2.720284e+01  1.050309e+01  2.252841e+01  4.584549e+00   \n",
       "\n",
       "                V25           V26           V27           V28         Amount  \\\n",
       "count  2.848070e+05  2.848070e+05  2.848070e+05  2.848070e+05  284807.000000   \n",
       "mean   1.426896e-15  1.701640e-15 -3.662252e-16 -1.217809e-16      88.349619   \n",
       "std    5.212781e-01  4.822270e-01  4.036325e-01  3.300833e-01     250.120109   \n",
       "min   -1.029540e+01 -2.604551e+00 -2.256568e+01 -1.543008e+01       0.000000   \n",
       "25%   -3.171451e-01 -3.269839e-01 -7.083953e-02 -5.295979e-02       5.600000   \n",
       "50%    1.659350e-02 -5.213911e-02  1.342146e-03  1.124383e-02      22.000000   \n",
       "75%    3.507156e-01  2.409522e-01  9.104512e-02  7.827995e-02      77.165000   \n",
       "max    7.519589e+00  3.517346e+00  3.161220e+01  3.384781e+01   25691.160000   \n",
       "\n",
       "               Class  \n",
       "count  284807.000000  \n",
       "mean        0.001727  \n",
       "std         0.041527  \n",
       "min         0.000000  \n",
       "25%         0.000000  \n",
       "50%         0.000000  \n",
       "75%         0.000000  \n",
       "max         1.000000  \n",
       "\n",
       "[8 rows x 31 columns]"
      ]
     },
     "execution_count": 5,
     "metadata": {},
     "output_type": "execute_result"
    }
   ],
   "source": [
    "credit_tranasction_data.describe()"
   ]
  },
  {
   "cell_type": "code",
   "execution_count": 6,
   "id": "a9ea5b37",
   "metadata": {
    "execution": {
     "iopub.execute_input": "2022-09-04T20:17:50.923641Z",
     "iopub.status.busy": "2022-09-04T20:17:50.923275Z",
     "iopub.status.idle": "2022-09-04T20:17:50.948421Z",
     "shell.execute_reply": "2022-09-04T20:17:50.947481Z"
    },
    "papermill": {
     "duration": 0.036653,
     "end_time": "2022-09-04T20:17:50.950876",
     "exception": false,
     "start_time": "2022-09-04T20:17:50.914223",
     "status": "completed"
    },
    "tags": []
   },
   "outputs": [
    {
     "data": {
      "text/plain": [
       "Time      0\n",
       "V1        0\n",
       "V2        0\n",
       "V3        0\n",
       "V4        0\n",
       "V5        0\n",
       "V6        0\n",
       "V7        0\n",
       "V8        0\n",
       "V9        0\n",
       "V10       0\n",
       "V11       0\n",
       "V12       0\n",
       "V13       0\n",
       "V14       0\n",
       "V15       0\n",
       "V16       0\n",
       "V17       0\n",
       "V18       0\n",
       "V19       0\n",
       "V20       0\n",
       "V21       0\n",
       "V22       0\n",
       "V23       0\n",
       "V24       0\n",
       "V25       0\n",
       "V26       0\n",
       "V27       0\n",
       "V28       0\n",
       "Amount    0\n",
       "Class     0\n",
       "dtype: int64"
      ]
     },
     "execution_count": 6,
     "metadata": {},
     "output_type": "execute_result"
    }
   ],
   "source": [
    "credit_tranasction_data.isnull().sum()"
   ]
  },
  {
   "cell_type": "markdown",
   "id": "f8494ec9",
   "metadata": {},
   "source": [
    "## Printing some important details about data"
   ]
  },
  {
   "cell_type": "code",
   "execution_count": 7,
   "id": "03b1ad26",
   "metadata": {},
   "outputs": [
    {
     "name": "stdout",
     "output_type": "stream",
     "text": [
      "Total number of credit card transaction data: 284807\n",
      "Number of legitimate credit card Transactions: 284315\n",
      "Number of fraud credit card Transactions: 492\n"
     ]
    }
   ],
   "source": [
    "print(f'Total number of credit card transaction data: {credit_tranasction_data.shape[0]}')\n",
    "print(f\"Number of legitimate credit card Transactions: {len(credit_tranasction_data[credit_tranasction_data['Class']==0])}\")\n",
    "print(f\"Number of fraud credit card Transactions: {len(credit_tranasction_data[credit_tranasction_data['Class']==1])}\")"
   ]
  },
  {
   "cell_type": "markdown",
   "id": "b9fd1c36",
   "metadata": {},
   "source": [
    "## Visualizing the correlation"
   ]
  },
  {
   "cell_type": "code",
   "execution_count": 8,
   "id": "d7cc7e50",
   "metadata": {},
   "outputs": [
    {
     "data": {
      "image/png": "[encoded data removed]",
      "text/plain": [
       "<Figure size 1200x900 with 2 Axes>"
      ]
     },
     "metadata": {},
     "output_type": "display_data"
    }
   ],
   "source": [
    "corrmat = credit_tranasction_data.corr()\n",
    "fig = plt.figure(figsize = (12, 9))\n",
    "sns.heatmap(corrmat, vmax = .8, square = True)\n",
    "plt.show()"
   ]
  },
  {
   "cell_type": "markdown",
   "id": "bf51bac9",
   "metadata": {},
   "source": [
    "## Visualizing the target variable"
   ]
  },
  {
   "cell_type": "code",
   "execution_count": 9,
   "id": "31de401a",
   "metadata": {},
   "outputs": [
    {
     "data": {
      "text/plain": [
       "<AxesSubplot:xlabel='Class', ylabel='count'>"
      ]
     },
     "execution_count": 9,
     "metadata": {},
     "output_type": "execute_result"
    },
    {
     "data": {
      "image/png": "[encoded data removed]",
      "text/plain": [
       "<Figure size 640x480 with 1 Axes>"
      ]
     },
     "metadata": {},
     "output_type": "display_data"
    }
   ],
   "source": [
    "sns.countplot(x = credit_tranasction_data['Class'])"
   ]
  },
  {
   "cell_type": "markdown",
   "id": "e62f0b70",
   "metadata": {
    "papermill": {
     "duration": 0.007594,
     "end_time": "2022-09-04T20:17:51.355564",
     "exception": false,
     "start_time": "2022-09-04T20:17:51.347970",
     "status": "completed"
    },
    "tags": []
   },
   "source": [
    "## Under Sampling the data\n",
    "From above, we can conclude that the data is not fairly balanced, Hence using the under-sampling approach to make the data even for better results."
   ]
  },
  {
   "cell_type": "code",
   "execution_count": 10,
   "id": "e949325d",
   "metadata": {
    "execution": {
     "iopub.execute_input": "2022-09-04T20:17:51.373091Z",
     "iopub.status.busy": "2022-09-04T20:17:51.372480Z",
     "iopub.status.idle": "2022-09-04T20:17:51.406882Z",
     "shell.execute_reply": "2022-09-04T20:17:51.405535Z"
    },
    "papermill": {
     "duration": 0.045862,
     "end_time": "2022-09-04T20:17:51.409185",
     "exception": false,
     "start_time": "2022-09-04T20:17:51.363323",
     "status": "completed"
    },
    "tags": []
   },
   "outputs": [],
   "source": [
    "# Dividing the target variable and the feature variables\n",
    "X = credit_tranasction_data.drop('Class', axis = 1)\n",
    "y = credit_tranasction_data['Class']"
   ]
  },
  {
   "cell_type": "code",
   "execution_count": 11,
   "id": "c80d233a",
   "metadata": {
    "execution": {
     "iopub.execute_input": "2022-09-04T20:17:51.753511Z",
     "iopub.status.busy": "2022-09-04T20:17:51.752643Z",
     "iopub.status.idle": "2022-09-04T20:17:54.744737Z",
     "shell.execute_reply": "2022-09-04T20:17:54.743283Z"
    },
    "papermill": {
     "duration": 3.003767,
     "end_time": "2022-09-04T20:17:54.747375",
     "exception": false,
     "start_time": "2022-09-04T20:17:51.743608",
     "status": "completed"
    },
    "tags": []
   },
   "outputs": [],
   "source": [
    "# Using imblearn library for under sampling\n",
    "near_miss = NearMiss()\n",
    "X_, y_ = near_miss.fit_resample(X,y)"
   ]
  },
  {
   "cell_type": "markdown",
   "id": "62cb27e9",
   "metadata": {},
   "source": [
    "## Visualizing the target variable after under sampling"
   ]
  },
  {
   "cell_type": "code",
   "execution_count": 12,
   "id": "e3571cec",
   "metadata": {
    "execution": {
     "iopub.execute_input": "2022-09-04T20:17:54.764892Z",
     "iopub.status.busy": "2022-09-04T20:17:54.764536Z",
     "iopub.status.idle": "2022-09-04T20:17:54.928806Z",
     "shell.execute_reply": "2022-09-04T20:17:54.927500Z"
    },
    "papermill": {
     "duration": 0.17533,
     "end_time": "2022-09-04T20:17:54.930974",
     "exception": false,
     "start_time": "2022-09-04T20:17:54.755644",
     "status": "completed"
    },
    "tags": []
   },
   "outputs": [
    {
     "data": {
      "text/plain": [
       "<AxesSubplot:xlabel='Class', ylabel='count'>"
      ]
     },
     "execution_count": 12,
     "metadata": {},
     "output_type": "execute_result"
    },
    {
     "data": {
      "image/png": "[encoded data removed]",
      "text/plain": [
       "<Figure size 640x480 with 1 Axes>"
      ]
     },
     "metadata": {},
     "output_type": "display_data"
    }
   ],
   "source": [
    "sns.countplot(x = y_)"
   ]
  },
  {
   "cell_type": "code",
   "execution_count": 13,
   "id": "c343e0ff",
   "metadata": {},
   "outputs": [
    {
     "name": "stdout",
     "output_type": "stream",
     "text": [
      "Shape of feature variables: (984, 30)\n",
      "Shape of feature variables: (984,)\n"
     ]
    }
   ],
   "source": [
    "print(f\"Shape of feature variables: {X_.shape}\")\n",
    "print(f\"Shape of feature variables: {y_.shape}\")"
   ]
  },
  {
   "cell_type": "markdown",
   "id": "f8ba4c66",
   "metadata": {
    "papermill": {
     "duration": 0.007297,
     "end_time": "2022-09-04T20:17:54.961792",
     "exception": false,
     "start_time": "2022-09-04T20:17:54.954495",
     "status": "completed"
    },
    "tags": []
   },
   "source": [
    "## Data Split into Test data and Train data"
   ]
  },
  {
   "cell_type": "code",
   "execution_count": 14,
   "id": "329e1dd9",
   "metadata": {
    "execution": {
     "iopub.execute_input": "2022-09-04T20:17:55.004220Z",
     "iopub.status.busy": "2022-09-04T20:17:55.003578Z",
     "iopub.status.idle": "2022-09-04T20:17:55.010362Z",
     "shell.execute_reply": "2022-09-04T20:17:55.009682Z"
    },
    "papermill": {
     "duration": 0.018416,
     "end_time": "2022-09-04T20:17:55.012326",
     "exception": false,
     "start_time": "2022-09-04T20:17:54.993910",
     "status": "completed"
    },
    "tags": []
   },
   "outputs": [],
   "source": [
    "X_train, X_test, y_train, y_test = train_test_split(X_, y_, test_size=0.3, random_state=42529)"
   ]
  },
  {
   "cell_type": "code",
   "execution_count": 15,
   "id": "730c5603",
   "metadata": {
    "execution": {
     "iopub.execute_input": "2022-09-04T20:17:55.030402Z",
     "iopub.status.busy": "2022-09-04T20:17:55.029707Z",
     "iopub.status.idle": "2022-09-04T20:17:55.036260Z",
     "shell.execute_reply": "2022-09-04T20:17:55.035507Z"
    },
    "papermill": {
     "duration": 0.017653,
     "end_time": "2022-09-04T20:17:55.038157",
     "exception": false,
     "start_time": "2022-09-04T20:17:55.020504",
     "status": "completed"
    },
    "tags": []
   },
   "outputs": [
    {
     "name": "stdout",
     "output_type": "stream",
     "text": [
      "The shape of feature test data:(296, 30)\n",
      "The shape of feature train data:(688, 30)\n",
      "The shape of target test data:(296,)\n",
      "The shape of target train data:(688,)\n"
     ]
    }
   ],
   "source": [
    "print(f\"The shape of feature test data:{X_test.shape}\")\n",
    "print(f\"The shape of feature train data:{X_train.shape}\")\n",
    "print(f\"The shape of target test data:{y_test.shape}\")\n",
    "print(f\"The shape of target train data:{y_train.shape}\")"
   ]
  },
  {
   "cell_type": "markdown",
   "id": "98696faf",
   "metadata": {},
   "source": [
    "## Scaling the feature data"
   ]
  },
  {
   "cell_type": "code",
   "execution_count": 16,
   "id": "2e03ae10",
   "metadata": {
    "execution": {
     "iopub.execute_input": "2022-09-04T20:17:55.055305Z",
     "iopub.status.busy": "2022-09-04T20:17:55.054712Z",
     "iopub.status.idle": "2022-09-04T20:17:55.073591Z",
     "shell.execute_reply": "2022-09-04T20:17:55.072984Z"
    },
    "papermill": {
     "duration": 0.029324,
     "end_time": "2022-09-04T20:17:55.075452",
     "exception": false,
     "start_time": "2022-09-04T20:17:55.046128",
     "status": "completed"
    },
    "tags": []
   },
   "outputs": [],
   "source": [
    "# using sklearn.preprocessing.RobustScaler() library for Scaling the data\n",
    "scaler = RobustScaler()\n",
    "\n",
    "# Scaling training feature data\n",
    "X_train = scaler.fit_transform(X_train)\n",
    "\n",
    "# Scaling testing feature data\n",
    "X_test = scaler.fit_transform(X_test)"
   ]
  },
  {
   "cell_type": "markdown",
   "id": "39d18243",
   "metadata": {
    "execution": {
     "iopub.execute_input": "2022-09-04T20:17:55.109553Z",
     "iopub.status.busy": "2022-09-04T20:17:55.108443Z",
     "iopub.status.idle": "2022-09-04T20:17:55.119786Z",
     "shell.execute_reply": "2022-09-04T20:17:55.119076Z"
    },
    "papermill": {
     "duration": 0.022429,
     "end_time": "2022-09-04T20:17:55.121858",
     "exception": false,
     "start_time": "2022-09-04T20:17:55.099429",
     "status": "completed"
    },
    "tags": []
   },
   "source": [
    "## Building the model"
   ]
  },
  {
   "cell_type": "code",
   "execution_count": 17,
   "id": "bc596899",
   "metadata": {
    "execution": {
     "iopub.execute_input": "2022-09-04T20:17:55.139270Z",
     "iopub.status.busy": "2022-09-04T20:17:55.138636Z",
     "iopub.status.idle": "2022-09-04T20:17:56.496917Z",
     "shell.execute_reply": "2022-09-04T20:17:56.495794Z"
    },
    "papermill": {
     "duration": 1.37063,
     "end_time": "2022-09-04T20:17:56.500686",
     "exception": false,
     "start_time": "2022-09-04T20:17:55.130056",
     "status": "completed"
    },
    "tags": []
   },
   "outputs": [
    {
     "name": "stderr",
     "output_type": "stream",
     "text": [
      "C:\\Users\\DELL\\anaconda3\\lib\\site-packages\\sklearn\\neural_network\\_multilayer_perceptron.py:692: ConvergenceWarning: Stochastic Optimizer: Maximum iterations (200) reached and the optimization hasn't converged yet.\n",
      "  warnings.warn(\n"
     ]
    },
    {
     "data": {
      "text/plain": [
       "MLPClassifier()"
      ]
     },
     "execution_count": 17,
     "metadata": {},
     "output_type": "execute_result"
    }
   ],
   "source": [
    "# Using Multi-layer Perceptron classifier\n",
    "classifier = MLPClassifier()\n",
    "classifier.fit(X_train,y_train)"
   ]
  },
  {
   "cell_type": "markdown",
   "id": "6de10f66",
   "metadata": {},
   "source": [
    "## Analysing the Predictions"
   ]
  },
  {
   "cell_type": "code",
   "execution_count": 18,
   "id": "caadbb3c",
   "metadata": {
    "execution": {
     "iopub.execute_input": "2022-09-04T20:17:56.550284Z",
     "iopub.status.busy": "2022-09-04T20:17:56.549615Z",
     "iopub.status.idle": "2022-09-04T20:17:56.561469Z",
     "shell.execute_reply": "2022-09-04T20:17:56.560107Z"
    },
    "papermill": {
     "duration": 0.042065,
     "end_time": "2022-09-04T20:17:56.566167",
     "exception": false,
     "start_time": "2022-09-04T20:17:56.524102",
     "status": "completed"
    },
    "tags": []
   },
   "outputs": [],
   "source": [
    "Y_pred = classifier.predict(X_test)"
   ]
  },
  {
   "cell_type": "code",
   "execution_count": 19,
   "id": "02581901",
   "metadata": {
    "execution": {
     "iopub.execute_input": "2022-09-04T20:17:56.612875Z",
     "iopub.status.busy": "2022-09-04T20:17:56.612235Z",
     "iopub.status.idle": "2022-09-04T20:17:56.640117Z",
     "shell.execute_reply": "2022-09-04T20:17:56.637492Z"
    },
    "papermill": {
     "duration": 0.056755,
     "end_time": "2022-09-04T20:17:56.645149",
     "exception": false,
     "start_time": "2022-09-04T20:17:56.588394",
     "status": "completed"
    },
    "tags": []
   },
   "outputs": [
    {
     "name": "stdout",
     "output_type": "stream",
     "text": [
      "Model analysis:\n",
      "              precision    recall  f1-score   support\n",
      "\n",
      "           0       0.95      1.00      0.97       143\n",
      "           1       1.00      0.95      0.97       153\n",
      "\n",
      "    accuracy                           0.97       296\n",
      "   macro avg       0.97      0.97      0.97       296\n",
      "weighted avg       0.97      0.97      0.97       296\n",
      "\n"
     ]
    }
   ],
   "source": [
    "classification_rep = classification_report(y_test,Y_pred)\n",
    "print(f\"Model analysis:\\n{classification_rep}\")"
   ]
  },
  {
   "cell_type": "code",
   "execution_count": 20,
   "id": "ee0bcf44",
   "metadata": {},
   "outputs": [
    {
     "data": {
      "text/plain": [
       "Text(0.5, 23.52222222222222, 'Predicted Values')"
      ]
     },
     "execution_count": 20,
     "metadata": {},
     "output_type": "execute_result"
    },
    {
     "data": {
      "image/png": "[encoded data removed]",
      "text/plain": [
       "<Figure size 640x480 with 2 Axes>"
      ]
     },
     "metadata": {},
     "output_type": "display_data"
    }
   ],
   "source": [
    "confusion_mat = confusion_matrix(y_test,Y_pred)\n",
    "confusion_mat = pd.DataFrame(np.array(confusion_mat), index=['Fraud', 'Legitimate'],columns=['Predicted Fraud','Predicted Legitimate'])\n",
    "sns.heatmap(confusion_mat, annot=True , fmt = 'g')\n",
    "plt.title('Confusion Matrix')\n",
    "plt.ylabel('Actual Values')\n",
    "plt.xlabel('Predicted Values')"
   ]
  },
  {
   "cell_type": "code",
   "execution_count": 21,
   "id": "f59c4220",
   "metadata": {},
   "outputs": [
    {
     "name": "stdout",
     "output_type": "stream",
     "text": [
      "The Accuracy of the model is: 97.3 %\n"
     ]
    }
   ],
   "source": [
    "print(f\"The Accuracy of the model is: {round(accuracy_score(y_test,Y_pred),4) * 100} %\")"
   ]
  },
  {
   "cell_type": "code",
   "execution_count": null,
   "id": "796aedbc",
   "metadata": {},
   "outputs": [],
   "source": []
  }
 ],
 "metadata": {
  "kernelspec": {
   "display_name": "Python 3 (ipykernel)",
   "language": "python",
   "name": "python3"
  },
  "language_info": {
   "codemirror_mode": {
    "name": "ipython",
    "version": 3
   },
   "file_extension": ".py",
   "mimetype": "text/x-python",
   "name": "python",
   "nbconvert_exporter": "python",
   "pygments_lexer": "ipython3",
   "version": "3.9.13"
  },
  "papermill": {
   "default_parameters": {},
   "duration": 19.644154,
   "end_time": "2022-09-04T20:17:57.532708",
   "environment_variables": {},
   "exception": null,
   "input_path": "__notebook__.ipynb",
   "output_path": "__notebook__.ipynb",
   "parameters": {},
   "start_time": "2022-09-04T20:17:37.888554",
   "version": "2.3.4"
  }
 },
 "nbformat": 4,
 "nbformat_minor": 5
}
